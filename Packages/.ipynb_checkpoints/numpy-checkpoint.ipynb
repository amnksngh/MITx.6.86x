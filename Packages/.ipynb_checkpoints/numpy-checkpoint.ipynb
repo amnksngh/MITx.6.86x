{
 "cells": [
  {
   "cell_type": "markdown",
   "id": "9c334fd4",
   "metadata": {},
   "source": [
    "#### In numpy dimentions are axes.\n",
    "- For example, the coordinates of a point in 3D space [1, 2, 1] has *one axis*. That axis has three elements in it, so we say it has a *length of 3*.\n",
    "- $$\\begin{bmatrix} 1. & 0. & 0. \\\\ 0. & 1. & 2. \\end{bmatrix}$$"
   ]
  }
 ],
 "metadata": {
  "kernelspec": {
   "display_name": "Python 3",
   "language": "python",
   "name": "python3"
  },
  "language_info": {
   "codemirror_mode": {
    "name": "ipython",
    "version": 3
   },
   "file_extension": ".py",
   "mimetype": "text/x-python",
   "name": "python",
   "nbconvert_exporter": "python",
   "pygments_lexer": "ipython3",
   "version": "3.8.8"
  }
 },
 "nbformat": 4,
 "nbformat_minor": 5
}
