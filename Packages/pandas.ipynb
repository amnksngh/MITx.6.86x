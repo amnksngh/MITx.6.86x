{
 "cells": [
  {
   "cell_type": "code",
   "execution_count": 1,
   "id": "2114e4da",
   "metadata": {},
   "outputs": [
    {
     "data": {
      "text/plain": [
       "['C:\\\\Users\\\\aman.singh\\\\Documents\\\\git\\\\MITx.6.86x\\\\Packages',\n",
       " 'C:\\\\Users\\\\aman.singh\\\\Anaconda3\\\\python38.zip',\n",
       " 'C:\\\\Users\\\\aman.singh\\\\Anaconda3\\\\DLLs',\n",
       " 'C:\\\\Users\\\\aman.singh\\\\Anaconda3\\\\lib',\n",
       " 'C:\\\\Users\\\\aman.singh\\\\Anaconda3',\n",
       " '',\n",
       " 'C:\\\\Users\\\\aman.singh\\\\Anaconda3\\\\lib\\\\site-packages',\n",
       " 'C:\\\\Users\\\\aman.singh\\\\Anaconda3\\\\lib\\\\site-packages\\\\locket-0.2.1-py3.8.egg',\n",
       " 'C:\\\\Users\\\\aman.singh\\\\Anaconda3\\\\lib\\\\site-packages\\\\win32',\n",
       " 'C:\\\\Users\\\\aman.singh\\\\Anaconda3\\\\lib\\\\site-packages\\\\win32\\\\lib',\n",
       " 'C:\\\\Users\\\\aman.singh\\\\Anaconda3\\\\lib\\\\site-packages\\\\Pythonwin',\n",
       " 'C:\\\\Users\\\\aman.singh\\\\Anaconda3\\\\lib\\\\site-packages\\\\IPython\\\\extensions',\n",
       " 'C:\\\\Users\\\\aman.singh\\\\.ipython']"
      ]
     },
     "execution_count": 1,
     "metadata": {},
     "output_type": "execute_result"
    }
   ],
   "source": [
    "import sys\n",
    "sys.path"
   ]
  },
  {
   "cell_type": "code",
   "execution_count": 9,
   "id": "587bf816",
   "metadata": {},
   "outputs": [],
   "source": [
    "import pandas as pd"
   ]
  },
  {
   "cell_type": "code",
   "execution_count": 10,
   "id": "c29ccb92",
   "metadata": {},
   "outputs": [],
   "source": [
    "import numpy as np"
   ]
  },
  {
   "cell_type": "code",
   "execution_count": 11,
   "id": "69d2b142",
   "metadata": {},
   "outputs": [],
   "source": [
    "import numexpr as ne"
   ]
  },
  {
   "cell_type": "code",
   "execution_count": 14,
   "id": "ca459851",
   "metadata": {},
   "outputs": [
    {
     "data": {
      "text/plain": [
       "<module 'numexpr.version' from 'C:\\\\Users\\\\aman.singh\\\\Anaconda3\\\\lib\\\\site-packages\\\\numexpr\\\\version.py'>"
      ]
     },
     "execution_count": 14,
     "metadata": {},
     "output_type": "execute_result"
    }
   ],
   "source": [
    "ne.version"
   ]
  },
  {
   "cell_type": "code",
   "execution_count": 22,
   "id": "1a368e51",
   "metadata": {},
   "outputs": [],
   "source": [
    "arr = np.array([b'str-0', b'str-1', b'str-2', b'str-3', b'str-4',\n",
    "                b'str-0', b'str-1', b'str-2', b'str-3', b'str-4'],\n",
    "                dtype = '|S25')"
   ]
  },
  {
   "cell_type": "code",
   "execution_count": 23,
   "id": "82e6f8d1",
   "metadata": {},
   "outputs": [
    {
     "name": "stdout",
     "output_type": "stream",
     "text": [
      "[b'str-0' b'str-1' b'str-2' b'str-3' b'str-4' b'str-0' b'str-1' b'str-2'\n",
      " b'str-3' b'str-4']\n"
     ]
    }
   ],
   "source": [
    "print(arr)"
   ]
  },
  {
   "cell_type": "code",
   "execution_count": 24,
   "id": "3e396c74",
   "metadata": {},
   "outputs": [
    {
     "data": {
      "text/plain": [
       "numpy.bytes_"
      ]
     },
     "execution_count": 24,
     "metadata": {},
     "output_type": "execute_result"
    }
   ],
   "source": [
    "type(arr[0])"
   ]
  },
  {
   "cell_type": "code",
   "execution_count": 25,
   "id": "5afff8e1",
   "metadata": {},
   "outputs": [
    {
     "data": {
      "text/plain": [
       "array([False, False,  True, False, False, False, False,  True, False,\n",
       "       False])"
      ]
     },
     "execution_count": 25,
     "metadata": {},
     "output_type": "execute_result"
    }
   ],
   "source": [
    "ne.evaluate('arr == \"str-2\"')"
   ]
  },
  {
   "cell_type": "code",
   "execution_count": null,
   "id": "b5b5ed5d",
   "metadata": {},
   "outputs": [],
   "source": []
  }
 ],
 "metadata": {
  "kernelspec": {
   "display_name": "Python 3",
   "language": "python",
   "name": "python3"
  },
  "language_info": {
   "codemirror_mode": {
    "name": "ipython",
    "version": 3
   },
   "file_extension": ".py",
   "mimetype": "text/x-python",
   "name": "python",
   "nbconvert_exporter": "python",
   "pygments_lexer": "ipython3",
   "version": "3.8.8"
  }
 },
 "nbformat": 4,
 "nbformat_minor": 5
}
